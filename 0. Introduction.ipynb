{
 "metadata": {
  "language_info": {
   "codemirror_mode": {
    "name": "ipython",
    "version": 3
   },
   "file_extension": ".py",
   "mimetype": "text/x-python",
   "name": "python",
   "nbconvert_exporter": "python",
   "pygments_lexer": "ipython3",
   "version": "3.8.6-final"
  },
  "orig_nbformat": 2,
  "kernelspec": {
   "name": "python3",
   "display_name": "Python 3"
  }
 },
 "nbformat": 4,
 "nbformat_minor": 2,
 "cells": [
  {
   "source": [
    "# Deep Learning\n",
    "- Consist of large neural networks with many neurons\n",
    "- Can solve complex problem\n",
    "## When to use deep learning?\n",
    "- Big or large data\n",
    "- Lack of domain knowledge\n",
    "- Complex problem (computer vision, natural language processing)\n",
    "- require access to processing power\n",
    "\n",
    "## Limitations of Machine Learning\n",
    "- Data Quality (Quality of output depends on Quality of input)\n",
    "    - Don't blindly trust data model\n",
    "    - Awareness is key\n",
    "    - Pay attetion to data\n",
    "\n",
    "- Explainability\n",
    "    - Make the model transparency to increase trust, clarity, and understanding\n",
    "    - Deep Learning do not care about explainability of the model\n"
   ],
   "cell_type": "markdown",
   "metadata": {}
  },
  {
   "cell_type": "code",
   "execution_count": 1,
   "metadata": {},
   "outputs": [],
   "source": [
    "# import library\n",
    "import numpy as np\n",
    "import pandas as pd \n",
    "import seaborn as sns\n",
    "import matplotlib.pyplot as plt "
   ]
  },
  {
   "source": [
    "# Forward propagation\n",
    "- Move from input - hidden layer - output\n",
    "- Output value determined by sum of weight*node for each input and hidden layer\n",
    "- Also called dot product operation\n",
    "- for one data point at a time\n",
    "\n",
    "# Activation functions\n",
    "- For capture non-linear functions\n",
    "- Applied to node inputs to produce node output\n",
    "- example : ReLU (rectified linear activation function) return 0 if input negative"
   ],
   "cell_type": "markdown",
   "metadata": {}
  },
  {
   "source": [
    "# Optiimizing a neural network \n",
    "- Changing weight value that is affecting accuracy\n",
    "- Gradient descent : optimize weight\n",
    "\n",
    "## Optimizing neural network with Backpropagation\n",
    "- Propagated backward from error in output through the hidden layer and input data\n"
   ],
   "cell_type": "markdown",
   "metadata": {}
  },
  {
   "cell_type": "code",
   "execution_count": null,
   "metadata": {},
   "outputs": [],
   "source": []
  }
 ]
}