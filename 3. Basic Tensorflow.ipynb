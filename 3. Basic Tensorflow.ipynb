{
 "metadata": {
  "language_info": {
   "codemirror_mode": {
    "name": "ipython",
    "version": 3
   },
   "file_extension": ".py",
   "mimetype": "text/x-python",
   "name": "python",
   "nbconvert_exporter": "python",
   "pygments_lexer": "ipython3",
   "version": "3.8.3-final"
  },
  "orig_nbformat": 2,
  "kernelspec": {
   "name": "python3",
   "display_name": "Python 3"
  }
 },
 "nbformat": 4,
 "nbformat_minor": 2,
 "cells": [
  {
   "source": [
    "# Introduction to Tensorflow\n",
    "- For graph-based numerical computation\n",
    "- Developed by Google Brain Team\n",
    "- Low and High level APIs"
   ],
   "cell_type": "markdown",
   "metadata": {}
  },
  {
   "cell_type": "code",
   "execution_count": 1,
   "metadata": {},
   "outputs": [],
   "source": [
    "# basic library\n",
    "import numpy as np\n",
    "import pandas as pd \n",
    "import seaborn as sns\n",
    "import matplotlib.pyplot as plt "
   ]
  },
  {
   "cell_type": "code",
   "execution_count": 2,
   "metadata": {},
   "outputs": [
    {
     "output_type": "stream",
     "name": "stdout",
     "text": [
      "Version:  2.3.1\nEager mode:  True\nHub version:  0.10.0\nGPU is NOT AVAILABLE\n"
     ]
    }
   ],
   "source": [
    "# tensorflow library\n",
    "import tensorflow as tf\n",
    "import tensorflow_hub as hub\n",
    "import tensorflow_datasets as tfds\n",
    "\n",
    "print(\"Version: \", tf.__version__)\n",
    "print(\"Eager mode: \", tf.executing_eagerly())\n",
    "print(\"Hub version: \", hub.__version__)\n",
    "print(\"GPU is\", \"available\" if tf.config.list_physical_devices('GPU') else \"NOT AVAILABLE\")"
   ]
  },
  {
   "source": [
    "## SK-Learn Datasets"
   ],
   "cell_type": "markdown",
   "metadata": {}
  },
  {
   "cell_type": "code",
   "execution_count": 3,
   "metadata": {},
   "outputs": [],
   "source": [
    "from sklearn import datasets\n",
    "\n",
    "iris = datasets.load_iris()"
   ]
  },
  {
   "cell_type": "code",
   "execution_count": 4,
   "metadata": {},
   "outputs": [
    {
     "output_type": "execute_result",
     "data": {
      "text/plain": [
       "   SepalLength  SepalWidth  PetalLength  PetalWidth\n",
       "0          5.1         3.5          1.4         0.2\n",
       "1          4.9         3.0          1.4         0.2\n",
       "2          4.7         3.2          1.3         0.2\n",
       "3          4.6         3.1          1.5         0.2\n",
       "4          5.0         3.6          1.4         0.2"
      ],
      "text/html": "<div>\n<style scoped>\n    .dataframe tbody tr th:only-of-type {\n        vertical-align: middle;\n    }\n\n    .dataframe tbody tr th {\n        vertical-align: top;\n    }\n\n    .dataframe thead th {\n        text-align: right;\n    }\n</style>\n<table border=\"1\" class=\"dataframe\">\n  <thead>\n    <tr style=\"text-align: right;\">\n      <th></th>\n      <th>SepalLength</th>\n      <th>SepalWidth</th>\n      <th>PetalLength</th>\n      <th>PetalWidth</th>\n    </tr>\n  </thead>\n  <tbody>\n    <tr>\n      <th>0</th>\n      <td>5.1</td>\n      <td>3.5</td>\n      <td>1.4</td>\n      <td>0.2</td>\n    </tr>\n    <tr>\n      <th>1</th>\n      <td>4.9</td>\n      <td>3.0</td>\n      <td>1.4</td>\n      <td>0.2</td>\n    </tr>\n    <tr>\n      <th>2</th>\n      <td>4.7</td>\n      <td>3.2</td>\n      <td>1.3</td>\n      <td>0.2</td>\n    </tr>\n    <tr>\n      <th>3</th>\n      <td>4.6</td>\n      <td>3.1</td>\n      <td>1.5</td>\n      <td>0.2</td>\n    </tr>\n    <tr>\n      <th>4</th>\n      <td>5.0</td>\n      <td>3.6</td>\n      <td>1.4</td>\n      <td>0.2</td>\n    </tr>\n  </tbody>\n</table>\n</div>"
     },
     "metadata": {},
     "execution_count": 4
    }
   ],
   "source": [
    "iris_df = pd.DataFrame(iris.data, columns=['SepalLength', 'SepalWidth', 'PetalLength', 'PetalWidth'])\n",
    "iris_df.head()"
   ]
  },
  {
   "cell_type": "code",
   "execution_count": 5,
   "metadata": {},
   "outputs": [
    {
     "output_type": "execute_result",
     "data": {
      "text/plain": [
       "   SepalLength  SepalWidth  PetalLength  PetalWidth  species\n",
       "0          5.1         3.5          1.4         0.2        0\n",
       "1          4.9         3.0          1.4         0.2        0\n",
       "2          4.7         3.2          1.3         0.2        0\n",
       "3          4.6         3.1          1.5         0.2        0\n",
       "4          5.0         3.6          1.4         0.2        0"
      ],
      "text/html": "<div>\n<style scoped>\n    .dataframe tbody tr th:only-of-type {\n        vertical-align: middle;\n    }\n\n    .dataframe tbody tr th {\n        vertical-align: top;\n    }\n\n    .dataframe thead th {\n        text-align: right;\n    }\n</style>\n<table border=\"1\" class=\"dataframe\">\n  <thead>\n    <tr style=\"text-align: right;\">\n      <th></th>\n      <th>SepalLength</th>\n      <th>SepalWidth</th>\n      <th>PetalLength</th>\n      <th>PetalWidth</th>\n      <th>species</th>\n    </tr>\n  </thead>\n  <tbody>\n    <tr>\n      <th>0</th>\n      <td>5.1</td>\n      <td>3.5</td>\n      <td>1.4</td>\n      <td>0.2</td>\n      <td>0</td>\n    </tr>\n    <tr>\n      <th>1</th>\n      <td>4.9</td>\n      <td>3.0</td>\n      <td>1.4</td>\n      <td>0.2</td>\n      <td>0</td>\n    </tr>\n    <tr>\n      <th>2</th>\n      <td>4.7</td>\n      <td>3.2</td>\n      <td>1.3</td>\n      <td>0.2</td>\n      <td>0</td>\n    </tr>\n    <tr>\n      <th>3</th>\n      <td>4.6</td>\n      <td>3.1</td>\n      <td>1.5</td>\n      <td>0.2</td>\n      <td>0</td>\n    </tr>\n    <tr>\n      <th>4</th>\n      <td>5.0</td>\n      <td>3.6</td>\n      <td>1.4</td>\n      <td>0.2</td>\n      <td>0</td>\n    </tr>\n  </tbody>\n</table>\n</div>"
     },
     "metadata": {},
     "execution_count": 5
    }
   ],
   "source": [
    "iris_df['species'] = iris.target\n",
    "iris_df.head()"
   ]
  },
  {
   "cell_type": "code",
   "execution_count": 7,
   "metadata": {},
   "outputs": [],
   "source": [
    "from sklearn.model_selection import train_test_split\n",
    "\n",
    "X = iris_df.drop(columns='species')\n",
    "y = iris_df['species']\n",
    "\n",
    "X_train, X_test, y_train, y_test = train_test_split(X, y, test_size=0.3,  random_state = 123, stratify=y)"
   ]
  },
  {
   "source": [
    "## Tensorflow Estimator"
   ],
   "cell_type": "markdown",
   "metadata": {}
  },
  {
   "cell_type": "code",
   "execution_count": 9,
   "metadata": {},
   "outputs": [
    {
     "output_type": "stream",
     "name": "stdout",
     "text": [
      "[NumericColumn(key='SepalLength', shape=(1,), default_value=None, dtype=tf.float32, normalizer_fn=None), NumericColumn(key='SepalWidth', shape=(1,), default_value=None, dtype=tf.float32, normalizer_fn=None), NumericColumn(key='PetalLength', shape=(1,), default_value=None, dtype=tf.float32, normalizer_fn=None), NumericColumn(key='PetalWidth', shape=(1,), default_value=None, dtype=tf.float32, normalizer_fn=None)]\n"
     ]
    }
   ],
   "source": [
    "# feature columns\n",
    "feature_columns = []\n",
    "for feature_name in X.keys():\n",
    "    #print(feature_name)\n",
    "    feature_columns.append(tf.feature_column.numeric_column(feature_name, dtype=tf.float32))\n",
    "\n",
    "print(feature_columns)"
   ]
  },
  {
   "cell_type": "code",
   "execution_count": 10,
   "metadata": {},
   "outputs": [],
   "source": [
    "# input function\n",
    "def input_fn(features, labels, training=True, batch_size=256):\n",
    "    # Convert the inputs to a Dataset.\n",
    "    dataset = tf.data.Dataset.from_tensor_slices((dict(features), labels))\n",
    "\n",
    "    # Shuffle and repeat if you are in training mode.\n",
    "    if training:\n",
    "        dataset = dataset.shuffle(1000).repeat()\n",
    "    \n",
    "    return dataset.batch(batch_size)\n"
   ]
  },
  {
   "cell_type": "code",
   "execution_count": 11,
   "metadata": {},
   "outputs": [
    {
     "output_type": "stream",
     "name": "stdout",
     "text": [
      "INFO:tensorflow:Using default config.\n",
      "WARNING:tensorflow:Using temporary folder as model directory: C:\\Users\\Roy\\AppData\\Local\\Temp\\tmpzzzqnjxy\n",
      "INFO:tensorflow:Using config: {'_model_dir': 'C:\\\\Users\\\\Roy\\\\AppData\\\\Local\\\\Temp\\\\tmpzzzqnjxy', '_tf_random_seed': None, '_save_summary_steps': 100, '_save_checkpoints_steps': None, '_save_checkpoints_secs': 600, '_session_config': allow_soft_placement: true\n",
      "graph_options {\n",
      "  rewrite_options {\n",
      "    meta_optimizer_iterations: ONE\n",
      "  }\n",
      "}\n",
      ", '_keep_checkpoint_max': 5, '_keep_checkpoint_every_n_hours': 10000, '_log_step_count_steps': 100, '_train_distribute': None, '_device_fn': None, '_protocol': None, '_eval_distribute': None, '_experimental_distribute': None, '_experimental_max_worker_delay_secs': None, '_session_creation_timeout_secs': 7200, '_service': None, '_cluster_spec': ClusterSpec({}), '_task_type': 'worker', '_task_id': 0, '_global_id_in_cluster': 0, '_master': '', '_evaluation_master': '', '_is_chief': True, '_num_ps_replicas': 0, '_num_worker_replicas': 1}\n"
     ]
    }
   ],
   "source": [
    "# Creating a model\n",
    "clf_est = tf.estimator.DNNClassifier(\n",
    "    feature_columns=feature_columns,\n",
    "    # Two hidden layers of 30 and 10 nodes respectively.\n",
    "    hidden_units=[30, 10],\n",
    "    # The model must choose between 3 classes.\n",
    "    n_classes=3)"
   ]
  },
  {
   "cell_type": "code",
   "execution_count": 13,
   "metadata": {},
   "outputs": [
    {
     "output_type": "stream",
     "name": "stdout",
     "text": [
      "WARNING:tensorflow:From C:\\Users\\Roy\\anaconda3\\lib\\site-packages\\tensorflow\\python\\training\\training_util.py:235: Variable.initialized_value (from tensorflow.python.ops.variables) is deprecated and will be removed in a future version.\n",
      "Instructions for updating:\n",
      "Use Variable.read_value. Variables in 2.X are initialized automatically both in eager and graph (inside tf.defun) contexts.\n",
      "INFO:tensorflow:Calling model_fn.\n",
      "WARNING:tensorflow:Layer dnn is casting an input tensor from dtype float64 to the layer's dtype of float32, which is new behavior in TensorFlow 2.  The layer has dtype float32 because its dtype defaults to floatx.\n",
      "\n",
      "If you intended to run this layer in float32, you can safely ignore this warning. If in doubt, this warning is likely only an issue if you are porting a TensorFlow 1.X model to TensorFlow 2.\n",
      "\n",
      "To change all layers to have dtype float64 by default, call `tf.keras.backend.set_floatx('float64')`. To change just this layer, pass dtype='float64' to the layer constructor. If you are the author of this layer, you can disable autocasting by passing autocast=False to the base Layer constructor.\n",
      "\n",
      "WARNING:tensorflow:From C:\\Users\\Roy\\anaconda3\\lib\\site-packages\\tensorflow\\python\\keras\\optimizer_v2\\adagrad.py:82: calling Constant.__init__ (from tensorflow.python.ops.init_ops) with dtype is deprecated and will be removed in a future version.\n",
      "Instructions for updating:\n",
      "Call initializer instance with the dtype argument instead of passing it to the constructor\n",
      "INFO:tensorflow:Done calling model_fn.\n",
      "INFO:tensorflow:Create CheckpointSaverHook.\n",
      "INFO:tensorflow:Graph was finalized.\n",
      "INFO:tensorflow:Running local_init_op.\n",
      "INFO:tensorflow:Done running local_init_op.\n",
      "INFO:tensorflow:Calling checkpoint listeners before saving checkpoint 0...\n",
      "INFO:tensorflow:Saving checkpoints for 0 into C:\\Users\\Roy\\AppData\\Local\\Temp\\tmpzzzqnjxy\\model.ckpt.\n",
      "INFO:tensorflow:Calling checkpoint listeners after saving checkpoint 0...\n",
      "INFO:tensorflow:loss = 2.3371089, step = 0\n",
      "INFO:tensorflow:global_step/sec: 462.96\n",
      "INFO:tensorflow:loss = 1.6396589, step = 100 (0.217 sec)\n",
      "INFO:tensorflow:global_step/sec: 529.106\n",
      "INFO:tensorflow:loss = 1.4769335, step = 200 (0.190 sec)\n",
      "INFO:tensorflow:global_step/sec: 552.488\n",
      "INFO:tensorflow:loss = 1.3074596, step = 300 (0.181 sec)\n",
      "INFO:tensorflow:global_step/sec: 450.445\n",
      "INFO:tensorflow:loss = 1.2100773, step = 400 (0.224 sec)\n",
      "INFO:tensorflow:global_step/sec: 478.475\n",
      "INFO:tensorflow:loss = 1.1560311, step = 500 (0.207 sec)\n",
      "INFO:tensorflow:global_step/sec: 561.773\n",
      "INFO:tensorflow:loss = 1.1193008, step = 600 (0.180 sec)\n",
      "INFO:tensorflow:global_step/sec: 500.004\n",
      "INFO:tensorflow:loss = 1.0740957, step = 700 (0.199 sec)\n",
      "INFO:tensorflow:global_step/sec: 540.545\n",
      "INFO:tensorflow:loss = 1.051322, step = 800 (0.185 sec)\n",
      "INFO:tensorflow:global_step/sec: 529.11\n",
      "INFO:tensorflow:loss = 1.0312893, step = 900 (0.188 sec)\n",
      "INFO:tensorflow:global_step/sec: 552.485\n",
      "INFO:tensorflow:loss = 1.0103455, step = 1000 (0.181 sec)\n",
      "INFO:tensorflow:global_step/sec: 549.454\n",
      "INFO:tensorflow:loss = 0.99699044, step = 1100 (0.183 sec)\n",
      "INFO:tensorflow:global_step/sec: 523.546\n",
      "INFO:tensorflow:loss = 0.9686563, step = 1200 (0.192 sec)\n",
      "INFO:tensorflow:global_step/sec: 546.461\n",
      "INFO:tensorflow:loss = 0.9544493, step = 1300 (0.181 sec)\n",
      "INFO:tensorflow:global_step/sec: 574.708\n",
      "INFO:tensorflow:loss = 0.9494953, step = 1400 (0.174 sec)\n",
      "INFO:tensorflow:global_step/sec: 598.804\n",
      "INFO:tensorflow:loss = 0.9382034, step = 1500 (0.167 sec)\n",
      "INFO:tensorflow:global_step/sec: 602.414\n",
      "INFO:tensorflow:loss = 0.92008555, step = 1600 (0.166 sec)\n",
      "INFO:tensorflow:global_step/sec: 591.712\n",
      "INFO:tensorflow:loss = 0.9062344, step = 1700 (0.168 sec)\n",
      "INFO:tensorflow:global_step/sec: 588.229\n",
      "INFO:tensorflow:loss = 0.8989068, step = 1800 (0.171 sec)\n",
      "INFO:tensorflow:global_step/sec: 595.242\n",
      "INFO:tensorflow:loss = 0.8876043, step = 1900 (0.168 sec)\n",
      "INFO:tensorflow:global_step/sec: 598.806\n",
      "INFO:tensorflow:loss = 0.87375087, step = 2000 (0.166 sec)\n",
      "INFO:tensorflow:global_step/sec: 595.236\n",
      "INFO:tensorflow:loss = 0.86200404, step = 2100 (0.169 sec)\n",
      "INFO:tensorflow:global_step/sec: 595.238\n",
      "INFO:tensorflow:loss = 0.8509435, step = 2200 (0.167 sec)\n",
      "INFO:tensorflow:global_step/sec: 574.713\n",
      "INFO:tensorflow:loss = 0.83794326, step = 2300 (0.175 sec)\n",
      "INFO:tensorflow:global_step/sec: 537.635\n",
      "INFO:tensorflow:loss = 0.83341813, step = 2400 (0.186 sec)\n",
      "INFO:tensorflow:global_step/sec: 510.201\n",
      "INFO:tensorflow:loss = 0.8242624, step = 2500 (0.196 sec)\n",
      "INFO:tensorflow:global_step/sec: 523.565\n",
      "INFO:tensorflow:loss = 0.8156919, step = 2600 (0.191 sec)\n",
      "INFO:tensorflow:global_step/sec: 602.41\n",
      "INFO:tensorflow:loss = 0.80319715, step = 2700 (0.166 sec)\n",
      "INFO:tensorflow:global_step/sec: 595.233\n",
      "INFO:tensorflow:loss = 0.79514635, step = 2800 (0.167 sec)\n",
      "INFO:tensorflow:global_step/sec: 540.541\n",
      "INFO:tensorflow:loss = 0.7935289, step = 2900 (0.186 sec)\n",
      "INFO:tensorflow:global_step/sec: 564.975\n",
      "INFO:tensorflow:loss = 0.7782272, step = 3000 (0.177 sec)\n",
      "INFO:tensorflow:global_step/sec: 606.056\n",
      "INFO:tensorflow:loss = 0.77535594, step = 3100 (0.165 sec)\n",
      "INFO:tensorflow:global_step/sec: 606.063\n",
      "INFO:tensorflow:loss = 0.76906633, step = 3200 (0.165 sec)\n",
      "INFO:tensorflow:global_step/sec: 584.788\n",
      "INFO:tensorflow:loss = 0.76048774, step = 3300 (0.171 sec)\n",
      "INFO:tensorflow:global_step/sec: 534.765\n",
      "INFO:tensorflow:loss = 0.7523977, step = 3400 (0.187 sec)\n",
      "INFO:tensorflow:global_step/sec: 561.799\n",
      "INFO:tensorflow:loss = 0.73862994, step = 3500 (0.178 sec)\n",
      "INFO:tensorflow:global_step/sec: 584.791\n",
      "INFO:tensorflow:loss = 0.73679334, step = 3600 (0.171 sec)\n",
      "INFO:tensorflow:global_step/sec: 561.795\n",
      "INFO:tensorflow:loss = 0.7333913, step = 3700 (0.179 sec)\n",
      "INFO:tensorflow:global_step/sec: 552.475\n",
      "INFO:tensorflow:loss = 0.73175263, step = 3800 (0.181 sec)\n",
      "INFO:tensorflow:global_step/sec: 534.776\n",
      "INFO:tensorflow:loss = 0.7153437, step = 3900 (0.185 sec)\n",
      "INFO:tensorflow:global_step/sec: 588.236\n",
      "INFO:tensorflow:loss = 0.7088446, step = 4000 (0.171 sec)\n",
      "INFO:tensorflow:global_step/sec: 574.714\n",
      "INFO:tensorflow:loss = 0.69721836, step = 4100 (0.175 sec)\n",
      "INFO:tensorflow:global_step/sec: 515.466\n",
      "INFO:tensorflow:loss = 0.6899079, step = 4200 (0.192 sec)\n",
      "INFO:tensorflow:global_step/sec: 543.468\n",
      "INFO:tensorflow:loss = 0.6958531, step = 4300 (0.185 sec)\n",
      "INFO:tensorflow:global_step/sec: 487.806\n",
      "INFO:tensorflow:loss = 0.68914783, step = 4400 (0.206 sec)\n",
      "INFO:tensorflow:global_step/sec: 552.493\n",
      "INFO:tensorflow:loss = 0.6815046, step = 4500 (0.179 sec)\n",
      "INFO:tensorflow:global_step/sec: 591.715\n",
      "INFO:tensorflow:loss = 0.683359, step = 4600 (0.171 sec)\n",
      "INFO:tensorflow:global_step/sec: 534.746\n",
      "INFO:tensorflow:loss = 0.6700661, step = 4700 (0.186 sec)\n",
      "INFO:tensorflow:global_step/sec: 561.81\n",
      "INFO:tensorflow:loss = 0.65975064, step = 4800 (0.178 sec)\n",
      "INFO:tensorflow:global_step/sec: 571.431\n",
      "INFO:tensorflow:loss = 0.65982604, step = 4900 (0.174 sec)\n",
      "INFO:tensorflow:Calling checkpoint listeners before saving checkpoint 5000...\n",
      "INFO:tensorflow:Saving checkpoints for 5000 into C:\\Users\\Roy\\AppData\\Local\\Temp\\tmpzzzqnjxy\\model.ckpt.\n",
      "INFO:tensorflow:Calling checkpoint listeners after saving checkpoint 5000...\n",
      "INFO:tensorflow:Loss for final step: 0.6414436.\n"
     ]
    },
    {
     "output_type": "execute_result",
     "data": {
      "text/plain": [
       "<tensorflow_estimator.python.estimator.canned.dnn.DNNClassifierV2 at 0x1afc9c313a0>"
      ]
     },
     "metadata": {},
     "execution_count": 13
    }
   ],
   "source": [
    "# training model\n",
    "clf_est.train(input_fn=lambda: input_fn(X_train, y_train, training=True), steps=5000)"
   ]
  },
  {
   "cell_type": "code",
   "execution_count": 15,
   "metadata": {},
   "outputs": [
    {
     "output_type": "stream",
     "name": "stdout",
     "text": [
      "INFO:tensorflow:Calling model_fn.\n",
      "WARNING:tensorflow:Layer dnn is casting an input tensor from dtype float64 to the layer's dtype of float32, which is new behavior in TensorFlow 2.  The layer has dtype float32 because its dtype defaults to floatx.\n",
      "\n",
      "If you intended to run this layer in float32, you can safely ignore this warning. If in doubt, this warning is likely only an issue if you are porting a TensorFlow 1.X model to TensorFlow 2.\n",
      "\n",
      "To change all layers to have dtype float64 by default, call `tf.keras.backend.set_floatx('float64')`. To change just this layer, pass dtype='float64' to the layer constructor. If you are the author of this layer, you can disable autocasting by passing autocast=False to the base Layer constructor.\n",
      "\n",
      "INFO:tensorflow:Done calling model_fn.\n",
      "INFO:tensorflow:Starting evaluation at 2020-11-27T12:40:00Z\n",
      "INFO:tensorflow:Graph was finalized.\n",
      "INFO:tensorflow:Restoring parameters from C:\\Users\\Roy\\AppData\\Local\\Temp\\tmpzzzqnjxy\\model.ckpt-5000\n",
      "INFO:tensorflow:Running local_init_op.\n",
      "INFO:tensorflow:Done running local_init_op.\n",
      "INFO:tensorflow:Inference Time : 0.40210s\n",
      "INFO:tensorflow:Finished evaluation at 2020-11-27-12:40:00\n",
      "INFO:tensorflow:Saving dict for global step 5000: accuracy = 0.75555557, average_loss = 0.65022516, global_step = 5000, loss = 0.65022516\n",
      "INFO:tensorflow:Saving 'checkpoint_path' summary for global step 5000: C:\\Users\\Roy\\AppData\\Local\\Temp\\tmpzzzqnjxy\\model.ckpt-5000\n",
      "\n",
      "Test set accuracy: 0.756\n",
      "\n"
     ]
    }
   ],
   "source": [
    "# evaluate\n",
    "eval_result = clf_est.evaluate(\n",
    "    input_fn=lambda: input_fn(X_test, y_test, training=False))\n",
    "\n",
    "print('\\nTest set accuracy: {accuracy:0.3f}\\n'.format(**eval_result))"
   ]
  },
  {
   "source": [
    "## TF Estimator From Keras Models (using iris dataset)"
   ],
   "cell_type": "markdown",
   "metadata": {}
  },
  {
   "cell_type": "code",
   "execution_count": 17,
   "metadata": {},
   "outputs": [],
   "source": [
    "# Create keras sequential model\n",
    "keras_model = tf.keras.models.Sequential([\n",
    "    tf.keras.layers.Dense(16, activation='relu', input_shape=(4,)),\n",
    "    tf.keras.layers.Dropout(0.2),\n",
    "    tf.keras.layers.Dense(3)\n",
    "])"
   ]
  },
  {
   "cell_type": "code",
   "execution_count": 19,
   "metadata": {},
   "outputs": [
    {
     "output_type": "stream",
     "name": "stdout",
     "text": [
      "Model: \"sequential\"\n_________________________________________________________________\nLayer (type)                 Output Shape              Param #   \n=================================================================\ndense (Dense)                (None, 16)                80        \n_________________________________________________________________\ndropout (Dropout)            (None, 16)                0         \n_________________________________________________________________\ndense_1 (Dense)              (None, 3)                 51        \n=================================================================\nTotal params: 131\nTrainable params: 131\nNon-trainable params: 0\n_________________________________________________________________\n"
     ]
    }
   ],
   "source": [
    "# Compiling model\n",
    "keras_model.compile(loss=tf.keras.losses.SparseCategoricalCrossentropy(from_logits=True),\n",
    "              optimizer='adam')\n",
    "keras_model.summary()"
   ]
  },
  {
   "cell_type": "code",
   "execution_count": 20,
   "metadata": {},
   "outputs": [
    {
     "output_type": "stream",
     "name": "stdout",
     "text": [
      "INFO:tensorflow:Using default config.\n",
      "WARNING:tensorflow:Using temporary folder as model directory: C:\\Users\\Roy\\AppData\\Local\\Temp\\tmpiphdmusv\n",
      "INFO:tensorflow:Using the Keras model provided.\n",
      "WARNING:tensorflow:From C:\\Users\\Roy\\anaconda3\\lib\\site-packages\\tensorflow_estimator\\python\\estimator\\keras.py:220: set_learning_phase (from tensorflow.python.keras.backend) is deprecated and will be removed after 2020-10-11.\n",
      "Instructions for updating:\n",
      "Simply pass a True/False value to the `training` argument of the `__call__` method of your layer or model.\n",
      "INFO:tensorflow:Using config: {'_model_dir': 'C:\\\\Users\\\\Roy\\\\AppData\\\\Local\\\\Temp\\\\tmpiphdmusv', '_tf_random_seed': None, '_save_summary_steps': 100, '_save_checkpoints_steps': None, '_save_checkpoints_secs': 600, '_session_config': allow_soft_placement: true\n",
      "graph_options {\n",
      "  rewrite_options {\n",
      "    meta_optimizer_iterations: ONE\n",
      "  }\n",
      "}\n",
      ", '_keep_checkpoint_max': 5, '_keep_checkpoint_every_n_hours': 10000, '_log_step_count_steps': 100, '_train_distribute': None, '_device_fn': None, '_protocol': None, '_eval_distribute': None, '_experimental_distribute': None, '_experimental_max_worker_delay_secs': None, '_session_creation_timeout_secs': 7200, '_service': None, '_cluster_spec': ClusterSpec({}), '_task_type': 'worker', '_task_id': 0, '_global_id_in_cluster': 0, '_master': '', '_evaluation_master': '', '_is_chief': True, '_num_ps_replicas': 0, '_num_worker_replicas': 1}\n"
     ]
    }
   ],
   "source": [
    "# Create estimator from keras model\n",
    "keras_estimator = tf.keras.estimator.model_to_estimator(keras_model=keras_model)"
   ]
  },
  {
   "cell_type": "code",
   "execution_count": null,
   "metadata": {},
   "outputs": [],
   "source": []
  }
 ]
}