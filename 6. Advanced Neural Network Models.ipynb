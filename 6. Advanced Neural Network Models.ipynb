{
 "metadata": {
  "language_info": {
   "codemirror_mode": {
    "name": "ipython",
    "version": 3
   },
   "file_extension": ".py",
   "mimetype": "text/x-python",
   "name": "python",
   "nbconvert_exporter": "python",
   "pygments_lexer": "ipython3",
   "version": "3.8.3-final"
  },
  "orig_nbformat": 2,
  "kernelspec": {
   "name": "python3",
   "display_name": "Python 3"
  }
 },
 "nbformat": 4,
 "nbformat_minor": 2,
 "cells": [
  {
   "source": [
    "# Advanced Neural Network Models Architecture with Tensorflow-Keras"
   ],
   "cell_type": "markdown",
   "metadata": {}
  },
  {
   "cell_type": "code",
   "execution_count": 2,
   "metadata": {},
   "outputs": [],
   "source": [
    "# basic library\n",
    "import numpy as np\n",
    "import pandas as pd \n",
    "import seaborn as sns\n",
    "import matplotlib.pyplot as plt "
   ]
  },
  {
   "cell_type": "code",
   "execution_count": 3,
   "metadata": {},
   "outputs": [
    {
     "output_type": "stream",
     "name": "stdout",
     "text": [
      "Version:  2.3.1\nEager mode:  True\nHub version:  0.10.0\n"
     ]
    }
   ],
   "source": [
    "# tensorflow library\n",
    "import tensorflow as tf\n",
    "import tensorflow_hub as hub\n",
    "import tensorflow_datasets as tfds\n",
    "\n",
    "print(\"Version: \", tf.__version__)\n",
    "print(\"Eager mode: \", tf.executing_eagerly())\n",
    "print(\"Hub version: \", hub.__version__)\n",
    "print(\"GPU is\", \"available\" if tf.config.list_physical_devices('GPU') else \"NOT AVAILABLE\")"
   ]
  },
  {
   "source": [
    "## Basic CNN Model using Conv2D"
   ],
   "cell_type": "markdown",
   "metadata": {}
  },
  {
   "cell_type": "code",
   "execution_count": 4,
   "metadata": {},
   "outputs": [],
   "source": [
    "from tensorflow import keras\n",
    "\n",
    "# create basic CNN model\n",
    "model = keras.Sequential([\n",
    "    keras.layers.Conv2D(filters=32, kernel_size=3, input_shape=(28, 28, 1), activation='relu'),\n",
    "    keras.layers.Conv2D(8, kernel_size=3, activation='relu'),\n",
    "    keras.layers.Flatten(),\n",
    "    keras.layers.Dense(3, activation='softmax')\n",
    "])"
   ]
  },
  {
   "source": [
    "## CNN using ResNet50 (transfer learning)"
   ],
   "cell_type": "markdown",
   "metadata": {}
  },
  {
   "cell_type": "code",
   "execution_count": 9,
   "metadata": {},
   "outputs": [
    {
     "output_type": "stream",
     "name": "stdout",
     "text": [
      "Downloading data from https://storage.googleapis.com/tensorflow/keras-applications/resnet/resnet50_weights_tf_dim_ordering_tf_kernels.h5\n",
      "102973440/102967424 [==============================] - 30s 0us/step\n",
      "WARNING:tensorflow:Model was constructed with shape (None, 224, 224, 3) for input Tensor(\"input_1:0\", shape=(None, 224, 224, 3), dtype=float32), but it was called on an input with incompatible shape (None, 969, 1200, 3).\n",
      "Downloading data from https://storage.googleapis.com/download.tensorflow.org/data/imagenet_class_index.json\n",
      "40960/35363 [==================================] - 0s 1us/step\n",
      "Predicted : [('n02692877', 'airship', 0.13119997), ('n02814860', 'beacon', 0.054635983), ('n03773504', 'missile', 0.048314106), ('n03355925', 'flagpole', 0.035823327)]\n"
     ]
    }
   ],
   "source": [
    "from tensorflow.keras.preprocessing import image\n",
    "from tensorflow.keras.applications.resnet50 import preprocess_input, ResNet50, decode_predictions\n",
    "\n",
    "img_path = 'data/img/monas.jpg' \n",
    "\n",
    "# load image\n",
    "img = image.load_img(img_path, target_size=(969, 1200))\n",
    "\n",
    "# turn into nd.array object\n",
    "img_array = image.img_to_array(img)\n",
    "\n",
    "# expand dimensions\n",
    "img_expand = np.expand_dims(img_array, axis=0)\n",
    "\n",
    "# pre-process img\n",
    "img_ready = preprocess_input(img_expand)\n",
    "\n",
    "# initialize ResNet50 model\n",
    "model_resnet = ResNet50(weights='imagenet')\n",
    "\n",
    "# make prediction with resnet50 model\n",
    "preds = model_resnet.predict(img_ready)\n",
    "\n",
    "print(f'Predicted : {decode_predictions(preds, top=4)[0]}') # monas predicted as an airship (only 13% probability though)"
   ]
  },
  {
   "cell_type": "code",
   "execution_count": null,
   "metadata": {},
   "outputs": [],
   "source": []
  }
 ]
}