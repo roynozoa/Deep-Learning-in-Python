{
 "metadata": {
  "language_info": {
   "codemirror_mode": {
    "name": "ipython",
    "version": 3
   },
   "file_extension": ".py",
   "mimetype": "text/x-python",
   "name": "python",
   "nbconvert_exporter": "python",
   "pygments_lexer": "ipython3",
   "version": "3.8.6-final"
  },
  "orig_nbformat": 2,
  "kernelspec": {
   "name": "python3",
   "display_name": "Python 3"
  }
 },
 "nbformat": 4,
 "nbformat_minor": 2,
 "cells": [
  {
   "source": [
    "# Building basic deep learning model with keras\n",
    "Step :\n",
    "- Specify architecture\n",
    "- Compile\n",
    "- Fit\n",
    "- Predict"
   ],
   "cell_type": "markdown",
   "metadata": {}
  },
  {
   "cell_type": "code",
   "execution_count": 2,
   "metadata": {},
   "outputs": [],
   "source": [
    "# import library\n",
    "import numpy as np\n",
    "import pandas as pd \n",
    "import seaborn as sns\n",
    "import matplotlib.pyplot as plt "
   ]
  },
  {
   "source": [
    "# Reegression Deep Learning Model"
   ],
   "cell_type": "markdown",
   "metadata": {}
  },
  {
   "source": [
    "## Data Preparations"
   ],
   "cell_type": "markdown",
   "metadata": {}
  },
  {
   "cell_type": "code",
   "execution_count": 4,
   "metadata": {},
   "outputs": [
    {
     "output_type": "stream",
     "name": "stdout",
     "text": [
      "   wage_per_hour  union  education_yrs  experience_yrs  age  female  marr  \\\n0           5.10      0              8              21   35       1     1   \n1           4.95      0              9              42   57       1     1   \n2           6.67      0             12               1   19       0     0   \n3           4.00      0             12               4   22       0     0   \n4           7.50      0             12              17   35       0     1   \n\n   south  manufacturing  construction  \n0      0              1             0  \n1      0              1             0  \n2      0              1             0  \n3      0              0             0  \n4      0              0             0  \n"
     ]
    },
    {
     "output_type": "execute_result",
     "data": {
      "text/plain": [
       "       wage_per_hour       union  education_yrs  experience_yrs         age  \\\n",
       "count     534.000000  534.000000     534.000000      534.000000  534.000000   \n",
       "mean        9.024064    0.179775      13.018727       17.822097   36.833333   \n",
       "std         5.139097    0.384360       2.615373       12.379710   11.726573   \n",
       "min         1.000000    0.000000       2.000000        0.000000   18.000000   \n",
       "25%         5.250000    0.000000      12.000000        8.000000   28.000000   \n",
       "50%         7.780000    0.000000      12.000000       15.000000   35.000000   \n",
       "75%        11.250000    0.000000      15.000000       26.000000   44.000000   \n",
       "max        44.500000    1.000000      18.000000       55.000000   64.000000   \n",
       "\n",
       "           female        marr       south  manufacturing  construction  \n",
       "count  534.000000  534.000000  534.000000     534.000000    534.000000  \n",
       "mean     0.458801    0.655431    0.292135       0.185393      0.044944  \n",
       "std      0.498767    0.475673    0.455170       0.388981      0.207375  \n",
       "min      0.000000    0.000000    0.000000       0.000000      0.000000  \n",
       "25%      0.000000    0.000000    0.000000       0.000000      0.000000  \n",
       "50%      0.000000    1.000000    0.000000       0.000000      0.000000  \n",
       "75%      1.000000    1.000000    1.000000       0.000000      0.000000  \n",
       "max      1.000000    1.000000    1.000000       1.000000      1.000000  "
      ],
      "text/html": "<div>\n<style scoped>\n    .dataframe tbody tr th:only-of-type {\n        vertical-align: middle;\n    }\n\n    .dataframe tbody tr th {\n        vertical-align: top;\n    }\n\n    .dataframe thead th {\n        text-align: right;\n    }\n</style>\n<table border=\"1\" class=\"dataframe\">\n  <thead>\n    <tr style=\"text-align: right;\">\n      <th></th>\n      <th>wage_per_hour</th>\n      <th>union</th>\n      <th>education_yrs</th>\n      <th>experience_yrs</th>\n      <th>age</th>\n      <th>female</th>\n      <th>marr</th>\n      <th>south</th>\n      <th>manufacturing</th>\n      <th>construction</th>\n    </tr>\n  </thead>\n  <tbody>\n    <tr>\n      <th>count</th>\n      <td>534.000000</td>\n      <td>534.000000</td>\n      <td>534.000000</td>\n      <td>534.000000</td>\n      <td>534.000000</td>\n      <td>534.000000</td>\n      <td>534.000000</td>\n      <td>534.000000</td>\n      <td>534.000000</td>\n      <td>534.000000</td>\n    </tr>\n    <tr>\n      <th>mean</th>\n      <td>9.024064</td>\n      <td>0.179775</td>\n      <td>13.018727</td>\n      <td>17.822097</td>\n      <td>36.833333</td>\n      <td>0.458801</td>\n      <td>0.655431</td>\n      <td>0.292135</td>\n      <td>0.185393</td>\n      <td>0.044944</td>\n    </tr>\n    <tr>\n      <th>std</th>\n      <td>5.139097</td>\n      <td>0.384360</td>\n      <td>2.615373</td>\n      <td>12.379710</td>\n      <td>11.726573</td>\n      <td>0.498767</td>\n      <td>0.475673</td>\n      <td>0.455170</td>\n      <td>0.388981</td>\n      <td>0.207375</td>\n    </tr>\n    <tr>\n      <th>min</th>\n      <td>1.000000</td>\n      <td>0.000000</td>\n      <td>2.000000</td>\n      <td>0.000000</td>\n      <td>18.000000</td>\n      <td>0.000000</td>\n      <td>0.000000</td>\n      <td>0.000000</td>\n      <td>0.000000</td>\n      <td>0.000000</td>\n    </tr>\n    <tr>\n      <th>25%</th>\n      <td>5.250000</td>\n      <td>0.000000</td>\n      <td>12.000000</td>\n      <td>8.000000</td>\n      <td>28.000000</td>\n      <td>0.000000</td>\n      <td>0.000000</td>\n      <td>0.000000</td>\n      <td>0.000000</td>\n      <td>0.000000</td>\n    </tr>\n    <tr>\n      <th>50%</th>\n      <td>7.780000</td>\n      <td>0.000000</td>\n      <td>12.000000</td>\n      <td>15.000000</td>\n      <td>35.000000</td>\n      <td>0.000000</td>\n      <td>1.000000</td>\n      <td>0.000000</td>\n      <td>0.000000</td>\n      <td>0.000000</td>\n    </tr>\n    <tr>\n      <th>75%</th>\n      <td>11.250000</td>\n      <td>0.000000</td>\n      <td>15.000000</td>\n      <td>26.000000</td>\n      <td>44.000000</td>\n      <td>1.000000</td>\n      <td>1.000000</td>\n      <td>1.000000</td>\n      <td>0.000000</td>\n      <td>0.000000</td>\n    </tr>\n    <tr>\n      <th>max</th>\n      <td>44.500000</td>\n      <td>1.000000</td>\n      <td>18.000000</td>\n      <td>55.000000</td>\n      <td>64.000000</td>\n      <td>1.000000</td>\n      <td>1.000000</td>\n      <td>1.000000</td>\n      <td>1.000000</td>\n      <td>1.000000</td>\n    </tr>\n  </tbody>\n</table>\n</div>"
     },
     "metadata": {},
     "execution_count": 4
    }
   ],
   "source": [
    "# import datasets\n",
    "PATH = 'data/hourly_wages.csv'\n",
    "\n",
    "df = pd.read_csv(PATH)\n",
    "print(df.head())\n",
    "\n",
    "df.describe()"
   ]
  },
  {
   "cell_type": "code",
   "execution_count": 6,
   "metadata": {},
   "outputs": [],
   "source": [
    "predictors = df.drop(columns='wage_per_hour').values\n",
    "target = df['wage_per_hour'].values"
   ]
  },
  {
   "source": [
    "# 534 data, 9 features\n",
    "print(predictors.shape)\n",
    "print(target.shape)"
   ],
   "cell_type": "code",
   "metadata": {},
   "execution_count": 8,
   "outputs": [
    {
     "output_type": "stream",
     "name": "stdout",
     "text": [
      "(534, 9)\n(534,)\n"
     ]
    }
   ]
  },
  {
   "source": [
    "## Import Keras Library"
   ],
   "cell_type": "markdown",
   "metadata": {}
  },
  {
   "cell_type": "code",
   "execution_count": 9,
   "metadata": {},
   "outputs": [],
   "source": [
    "from keras.layers import Dense\n",
    "from keras.models import Sequential"
   ]
  },
  {
   "source": [
    "## 1. Specify the model"
   ],
   "cell_type": "markdown",
   "metadata": {}
  },
  {
   "cell_type": "code",
   "execution_count": 10,
   "metadata": {},
   "outputs": [],
   "source": [
    "# save number of columns\n",
    "n_cols = predictors.shape[1]\n",
    "\n",
    "# initialize model\n",
    "model = Sequential()\n",
    "\n",
    "# add first layer\n",
    "model.add(Dense(50, activation='relu', input_shape = (n_cols,)))\n",
    "\n",
    "# add second layer\n",
    "model.add(Dense(32, activation='relu'))\n",
    "\n",
    "# add output layer\n",
    "model.add(Dense(1))"
   ]
  },
  {
   "source": [
    "## 2. Compiling the model"
   ],
   "cell_type": "markdown",
   "metadata": {}
  },
  {
   "cell_type": "code",
   "execution_count": 11,
   "metadata": {},
   "outputs": [],
   "source": [
    "model.compile(optimizer='adam', loss='mean_squared_error')"
   ]
  },
  {
   "source": [
    "## 3. Fitting the data"
   ],
   "cell_type": "markdown",
   "metadata": {}
  },
  {
   "cell_type": "code",
   "execution_count": 12,
   "metadata": {},
   "outputs": [
    {
     "output_type": "stream",
     "name": "stdout",
     "text": [
      "17/17 [==============================] - 0s 2ms/step - loss: 74.0436\n"
     ]
    },
    {
     "output_type": "execute_result",
     "data": {
      "text/plain": [
       "<tensorflow.python.keras.callbacks.History at 0x166f525ac40>"
      ]
     },
     "metadata": {},
     "execution_count": 12
    }
   ],
   "source": [
    "model.fit(predictors, target)"
   ]
  },
  {
   "source": [
    "# Classification Deep Learning Model"
   ],
   "cell_type": "markdown",
   "metadata": {}
  },
  {
   "source": [
    "## Data Preparations"
   ],
   "cell_type": "markdown",
   "metadata": {}
  },
  {
   "cell_type": "code",
   "execution_count": 13,
   "metadata": {},
   "outputs": [
    {
     "output_type": "execute_result",
     "data": {
      "text/plain": [
       "   survived  pclass   age  sibsp  parch     fare  male  age_was_missing  \\\n",
       "0         0       3  22.0      1      0   7.2500     1            False   \n",
       "1         1       1  38.0      1      0  71.2833     0            False   \n",
       "2         1       3  26.0      0      0   7.9250     0            False   \n",
       "3         1       1  35.0      1      0  53.1000     0            False   \n",
       "4         0       3  35.0      0      0   8.0500     1            False   \n",
       "\n",
       "   embarked_from_cherbourg  embarked_from_queenstown  \\\n",
       "0                        0                         0   \n",
       "1                        1                         0   \n",
       "2                        0                         0   \n",
       "3                        0                         0   \n",
       "4                        0                         0   \n",
       "\n",
       "   embarked_from_southampton  \n",
       "0                          1  \n",
       "1                          0  \n",
       "2                          1  \n",
       "3                          1  \n",
       "4                          1  "
      ],
      "text/html": "<div>\n<style scoped>\n    .dataframe tbody tr th:only-of-type {\n        vertical-align: middle;\n    }\n\n    .dataframe tbody tr th {\n        vertical-align: top;\n    }\n\n    .dataframe thead th {\n        text-align: right;\n    }\n</style>\n<table border=\"1\" class=\"dataframe\">\n  <thead>\n    <tr style=\"text-align: right;\">\n      <th></th>\n      <th>survived</th>\n      <th>pclass</th>\n      <th>age</th>\n      <th>sibsp</th>\n      <th>parch</th>\n      <th>fare</th>\n      <th>male</th>\n      <th>age_was_missing</th>\n      <th>embarked_from_cherbourg</th>\n      <th>embarked_from_queenstown</th>\n      <th>embarked_from_southampton</th>\n    </tr>\n  </thead>\n  <tbody>\n    <tr>\n      <th>0</th>\n      <td>0</td>\n      <td>3</td>\n      <td>22.0</td>\n      <td>1</td>\n      <td>0</td>\n      <td>7.2500</td>\n      <td>1</td>\n      <td>False</td>\n      <td>0</td>\n      <td>0</td>\n      <td>1</td>\n    </tr>\n    <tr>\n      <th>1</th>\n      <td>1</td>\n      <td>1</td>\n      <td>38.0</td>\n      <td>1</td>\n      <td>0</td>\n      <td>71.2833</td>\n      <td>0</td>\n      <td>False</td>\n      <td>1</td>\n      <td>0</td>\n      <td>0</td>\n    </tr>\n    <tr>\n      <th>2</th>\n      <td>1</td>\n      <td>3</td>\n      <td>26.0</td>\n      <td>0</td>\n      <td>0</td>\n      <td>7.9250</td>\n      <td>0</td>\n      <td>False</td>\n      <td>0</td>\n      <td>0</td>\n      <td>1</td>\n    </tr>\n    <tr>\n      <th>3</th>\n      <td>1</td>\n      <td>1</td>\n      <td>35.0</td>\n      <td>1</td>\n      <td>0</td>\n      <td>53.1000</td>\n      <td>0</td>\n      <td>False</td>\n      <td>0</td>\n      <td>0</td>\n      <td>1</td>\n    </tr>\n    <tr>\n      <th>4</th>\n      <td>0</td>\n      <td>3</td>\n      <td>35.0</td>\n      <td>0</td>\n      <td>0</td>\n      <td>8.0500</td>\n      <td>1</td>\n      <td>False</td>\n      <td>0</td>\n      <td>0</td>\n      <td>1</td>\n    </tr>\n  </tbody>\n</table>\n</div>"
     },
     "metadata": {},
     "execution_count": 13
    }
   ],
   "source": [
    "TITANIC_PATH = 'data/titanic_all_numeric.csv'\n",
    "\n",
    "titanic = pd.read_csv(TITANIC_PATH)\n",
    "titanic.head()"
   ]
  },
  {
   "cell_type": "code",
   "execution_count": 14,
   "metadata": {},
   "outputs": [],
   "source": [
    "# import to_categorical\n",
    "from keras.utils import to_categorical\n",
    "\n",
    "# new predictors and targets\n",
    "X = titanic.drop(columns='survived').astype(np.float32)\n",
    "y = to_categorical(titanic['survived'])"
   ]
  },
  {
   "cell_type": "code",
   "execution_count": 15,
   "metadata": {},
   "outputs": [],
   "source": [
    "# separate data\n",
    "from sklearn.model_selection import train_test_split\n",
    "\n",
    "predictors, pred_data, target, pred_target = train_test_split(X, y, test_size=0.2)"
   ]
  },
  {
   "cell_type": "code",
   "execution_count": 16,
   "metadata": {},
   "outputs": [
    {
     "output_type": "stream",
     "name": "stdout",
     "text": [
      "(712, 10)\n(712, 2)\n(179, 10)\n(179, 2)\n"
     ]
    }
   ],
   "source": [
    "# 712 data, 10 features\n",
    "print(predictors.shape)\n",
    "print(target.shape)\n",
    "\n",
    "print(pred_data.shape)\n",
    "print(pred_target.shape)"
   ]
  },
  {
   "cell_type": "code",
   "execution_count": 17,
   "metadata": {},
   "outputs": [],
   "source": [
    "n_cols = predictors.shape[1]"
   ]
  },
  {
   "source": [
    "## 1. Specify the model"
   ],
   "cell_type": "markdown",
   "metadata": {}
  },
  {
   "cell_type": "code",
   "execution_count": 18,
   "metadata": {},
   "outputs": [],
   "source": [
    "model_clf = Sequential()\n",
    "\n",
    "# add first layer\n",
    "model_clf.add(Dense(32, activation='relu', input_shape=(n_cols,)))\n",
    "\n",
    "# add output layer\n",
    "model_clf.add(Dense(2, activation='softmax'))"
   ]
  },
  {
   "source": [
    "## 2. Compiling the model"
   ],
   "cell_type": "markdown",
   "metadata": {}
  },
  {
   "cell_type": "code",
   "execution_count": 19,
   "metadata": {},
   "outputs": [],
   "source": [
    "model_clf.compile(optimizer='sgd', loss='categorical_crossentropy', metrics=['accuracy'])"
   ]
  },
  {
   "source": [
    "## 3. Fitting the data"
   ],
   "cell_type": "markdown",
   "metadata": {}
  },
  {
   "cell_type": "code",
   "execution_count": 20,
   "metadata": {},
   "outputs": [
    {
     "output_type": "stream",
     "name": "stdout",
     "text": [
      "23/23 [==============================] - 0s 913us/step - loss: 2.2799 - accuracy: 0.6643\n"
     ]
    },
    {
     "output_type": "execute_result",
     "data": {
      "text/plain": [
       "<tensorflow.python.keras.callbacks.History at 0x166f7f6f370>"
      ]
     },
     "metadata": {},
     "execution_count": 20
    }
   ],
   "source": [
    "model_clf.fit(predictors, target)"
   ]
  },
  {
   "source": [
    "## 4. Predict"
   ],
   "cell_type": "markdown",
   "metadata": {}
  },
  {
   "cell_type": "code",
   "execution_count": 21,
   "metadata": {},
   "outputs": [
    {
     "output_type": "execute_result",
     "data": {
      "text/plain": [
       "array([5.64600229e-01, 2.21278563e-01, 1.64830666e-02, 3.79857272e-01,\n",
       "       4.50902700e-01, 5.30372048e-03, 6.02923967e-02, 2.21770693e-04,\n",
       "       2.30313428e-02, 3.31983529e-02, 2.29433607e-02, 3.54922079e-02,\n",
       "       1.60365123e-02, 1.62155777e-02, 2.26886719e-02, 4.66856420e-01,\n",
       "       3.81451339e-01, 6.77173911e-03, 1.59338191e-01, 2.15940992e-03,\n",
       "       6.21520740e-04, 1.61861274e-02, 2.42894292e-02, 1.25862649e-02,\n",
       "       1.59327760e-02, 6.86431117e-03, 1.95014216e-02, 3.83171742e-03,\n",
       "       2.30263136e-02, 5.91376564e-04, 7.05460319e-04, 2.41547339e-02,\n",
       "       5.40217559e-04, 3.77501026e-02, 3.88089158e-02, 7.43478769e-03,\n",
       "       2.11615860e-02, 2.04609503e-04, 2.54934450e-04, 4.18906519e-03,\n",
       "       1.97916999e-02, 7.21728206e-02, 1.82372853e-02, 6.02923967e-02,\n",
       "       1.17845863e-01, 6.89536938e-03, 7.22480053e-03, 2.95330770e-03,\n",
       "       1.40601322e-01, 2.78275069e-02, 1.03320815e-02, 1.26284271e-01,\n",
       "       1.96746178e-03, 3.11512612e-02, 8.57459977e-02, 8.38501826e-02,\n",
       "       4.25081640e-01, 1.83531523e-01, 1.66171901e-02, 2.37275995e-02,\n",
       "       5.14978077e-03, 3.06821819e-02, 5.36869951e-02, 8.09690803e-02,\n",
       "       1.15437947e-01, 2.32785400e-02, 4.65275371e-04, 1.54876010e-02,\n",
       "       2.11661421e-02, 5.81195205e-02, 6.76661581e-02, 4.14778113e-01,\n",
       "       1.63448192e-02, 2.25704685e-02, 6.75705746e-02, 5.22686988e-02,\n",
       "       2.11846177e-02, 9.51242866e-04, 9.34644137e-03, 1.07590610e-03,\n",
       "       5.32836094e-02, 8.35967213e-02, 6.76661581e-02, 4.25398536e-03,\n",
       "       8.73681100e-04, 1.54023515e-02, 1.97999269e-01, 1.80138310e-03,\n",
       "       4.08162475e-02, 1.23597803e-02, 1.57974325e-02, 2.11846177e-02,\n",
       "       9.19293426e-03, 5.36365546e-02, 5.81248989e-03, 5.45002148e-02,\n",
       "       9.20075085e-03, 9.99102462e-03, 2.94887990e-01, 2.03698147e-02,\n",
       "       1.21423816e-02, 9.99102462e-03, 2.42894292e-02, 4.86597829e-02,\n",
       "       5.73519012e-03, 2.69265496e-03, 4.83717863e-03, 2.06777379e-02,\n",
       "       5.58074974e-02, 6.98297471e-02, 1.84477985e-01, 1.90052073e-02,\n",
       "       3.76340374e-02, 5.36808483e-02, 7.74535015e-02, 2.31157616e-02,\n",
       "       1.14344116e-02, 1.64830666e-02, 4.77158763e-02, 2.95593310e-02,\n",
       "       1.27755841e-02, 8.59112740e-02, 2.12113298e-02, 4.78143767e-02,\n",
       "       3.93107803e-05, 2.08282527e-02, 1.26174623e-02, 9.21803294e-04,\n",
       "       9.80078056e-02, 1.20077860e-02, 2.11846177e-02, 1.64830666e-02,\n",
       "       9.67970025e-03, 2.30313428e-02, 2.19441745e-02, 4.20658961e-02,\n",
       "       1.22945897e-01, 5.12781218e-02, 5.70749044e-02, 4.62089712e-03,\n",
       "       1.60073210e-02, 1.65148657e-02, 8.36309104e-04, 2.19276138e-02,\n",
       "       1.27504021e-03, 1.66171901e-02, 5.67066148e-02, 2.11569425e-02,\n",
       "       4.94818240e-02, 3.34670454e-01, 5.38411923e-02, 6.87313790e-04,\n",
       "       4.24172506e-02, 2.41355272e-03, 1.72253717e-02, 2.38467418e-02,\n",
       "       1.20808385e-04, 3.63646541e-03, 8.30509700e-03, 1.70855671e-02,\n",
       "       1.30870864e-01, 6.88810647e-02, 1.81485470e-02, 2.01620366e-02,\n",
       "       4.42207664e-01, 8.43782444e-03, 4.84363118e-04, 8.57966079e-04,\n",
       "       4.20968533e-02, 5.17039478e-01, 4.66763368e-03, 3.77986394e-02,\n",
       "       4.45063144e-01, 2.85333302e-03, 2.80898064e-02, 3.18279415e-02,\n",
       "       8.51632953e-02, 6.46802410e-02, 1.66754576e-03], dtype=float32)"
      ]
     },
     "metadata": {},
     "execution_count": 21
    }
   ],
   "source": [
    "predictions = model_clf.predict(pred_data)\n",
    "\n",
    "# calculate predicted probability of survival\n",
    "predictions[:,1]"
   ]
  },
  {
   "source": [
    "## Saving Model"
   ],
   "cell_type": "markdown",
   "metadata": {}
  },
  {
   "cell_type": "code",
   "execution_count": 22,
   "metadata": {},
   "outputs": [],
   "source": [
    "from keras.models import load_model\n",
    "model_clf.save('model/model_classification.h5')"
   ]
  },
  {
   "cell_type": "code",
   "execution_count": null,
   "metadata": {},
   "outputs": [],
   "source": []
  }
 ]
}