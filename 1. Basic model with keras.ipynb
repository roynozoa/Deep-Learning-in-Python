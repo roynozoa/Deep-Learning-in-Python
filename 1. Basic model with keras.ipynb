{
 "metadata": {
  "language_info": {
   "codemirror_mode": {
    "name": "ipython",
    "version": 3
   },
   "file_extension": ".py",
   "mimetype": "text/x-python",
   "name": "python",
   "nbconvert_exporter": "python",
   "pygments_lexer": "ipython3",
   "version": "3.8.6-final"
  },
  "orig_nbformat": 2,
  "kernelspec": {
   "name": "python3",
   "display_name": "Python 3"
  }
 },
 "nbformat": 4,
 "nbformat_minor": 2,
 "cells": [
  {
   "source": [
    "# Building basic deep learning model with keras\n",
    "Step :\n",
    "- Specify architecture\n",
    "- Compile\n",
    "- Fit\n",
    "- Predict"
   ],
   "cell_type": "markdown",
   "metadata": {}
  },
  {
   "cell_type": "code",
   "execution_count": 1,
   "metadata": {},
   "outputs": [],
   "source": [
    "# import library\n",
    "import numpy as np\n",
    "import pandas as pd \n",
    "import seaborn as sns\n",
    "import matplotlib.pyplot as plt "
   ]
  },
  {
   "source": [
    "# Reegression Deep Learning Model"
   ],
   "cell_type": "markdown",
   "metadata": {}
  },
  {
   "source": [
    "## Data Preparations"
   ],
   "cell_type": "markdown",
   "metadata": {}
  },
  {
   "cell_type": "code",
   "execution_count": 2,
   "metadata": {},
   "outputs": [
    {
     "output_type": "stream",
     "name": "stdout",
     "text": [
      "   wage_per_hour  union  education_yrs  experience_yrs  age  female  marr  \\\n0           5.10      0              8              21   35       1     1   \n1           4.95      0              9              42   57       1     1   \n2           6.67      0             12               1   19       0     0   \n3           4.00      0             12               4   22       0     0   \n4           7.50      0             12              17   35       0     1   \n\n   south  manufacturing  construction  \n0      0              1             0  \n1      0              1             0  \n2      0              1             0  \n3      0              0             0  \n4      0              0             0  \n"
     ]
    },
    {
     "output_type": "execute_result",
     "data": {
      "text/plain": [
       "       wage_per_hour       union  education_yrs  experience_yrs         age  \\\n",
       "count     534.000000  534.000000     534.000000      534.000000  534.000000   \n",
       "mean        9.024064    0.179775      13.018727       17.822097   36.833333   \n",
       "std         5.139097    0.384360       2.615373       12.379710   11.726573   \n",
       "min         1.000000    0.000000       2.000000        0.000000   18.000000   \n",
       "25%         5.250000    0.000000      12.000000        8.000000   28.000000   \n",
       "50%         7.780000    0.000000      12.000000       15.000000   35.000000   \n",
       "75%        11.250000    0.000000      15.000000       26.000000   44.000000   \n",
       "max        44.500000    1.000000      18.000000       55.000000   64.000000   \n",
       "\n",
       "           female        marr       south  manufacturing  construction  \n",
       "count  534.000000  534.000000  534.000000     534.000000    534.000000  \n",
       "mean     0.458801    0.655431    0.292135       0.185393      0.044944  \n",
       "std      0.498767    0.475673    0.455170       0.388981      0.207375  \n",
       "min      0.000000    0.000000    0.000000       0.000000      0.000000  \n",
       "25%      0.000000    0.000000    0.000000       0.000000      0.000000  \n",
       "50%      0.000000    1.000000    0.000000       0.000000      0.000000  \n",
       "75%      1.000000    1.000000    1.000000       0.000000      0.000000  \n",
       "max      1.000000    1.000000    1.000000       1.000000      1.000000  "
      ],
      "text/html": "<div>\n<style scoped>\n    .dataframe tbody tr th:only-of-type {\n        vertical-align: middle;\n    }\n\n    .dataframe tbody tr th {\n        vertical-align: top;\n    }\n\n    .dataframe thead th {\n        text-align: right;\n    }\n</style>\n<table border=\"1\" class=\"dataframe\">\n  <thead>\n    <tr style=\"text-align: right;\">\n      <th></th>\n      <th>wage_per_hour</th>\n      <th>union</th>\n      <th>education_yrs</th>\n      <th>experience_yrs</th>\n      <th>age</th>\n      <th>female</th>\n      <th>marr</th>\n      <th>south</th>\n      <th>manufacturing</th>\n      <th>construction</th>\n    </tr>\n  </thead>\n  <tbody>\n    <tr>\n      <th>count</th>\n      <td>534.000000</td>\n      <td>534.000000</td>\n      <td>534.000000</td>\n      <td>534.000000</td>\n      <td>534.000000</td>\n      <td>534.000000</td>\n      <td>534.000000</td>\n      <td>534.000000</td>\n      <td>534.000000</td>\n      <td>534.000000</td>\n    </tr>\n    <tr>\n      <th>mean</th>\n      <td>9.024064</td>\n      <td>0.179775</td>\n      <td>13.018727</td>\n      <td>17.822097</td>\n      <td>36.833333</td>\n      <td>0.458801</td>\n      <td>0.655431</td>\n      <td>0.292135</td>\n      <td>0.185393</td>\n      <td>0.044944</td>\n    </tr>\n    <tr>\n      <th>std</th>\n      <td>5.139097</td>\n      <td>0.384360</td>\n      <td>2.615373</td>\n      <td>12.379710</td>\n      <td>11.726573</td>\n      <td>0.498767</td>\n      <td>0.475673</td>\n      <td>0.455170</td>\n      <td>0.388981</td>\n      <td>0.207375</td>\n    </tr>\n    <tr>\n      <th>min</th>\n      <td>1.000000</td>\n      <td>0.000000</td>\n      <td>2.000000</td>\n      <td>0.000000</td>\n      <td>18.000000</td>\n      <td>0.000000</td>\n      <td>0.000000</td>\n      <td>0.000000</td>\n      <td>0.000000</td>\n      <td>0.000000</td>\n    </tr>\n    <tr>\n      <th>25%</th>\n      <td>5.250000</td>\n      <td>0.000000</td>\n      <td>12.000000</td>\n      <td>8.000000</td>\n      <td>28.000000</td>\n      <td>0.000000</td>\n      <td>0.000000</td>\n      <td>0.000000</td>\n      <td>0.000000</td>\n      <td>0.000000</td>\n    </tr>\n    <tr>\n      <th>50%</th>\n      <td>7.780000</td>\n      <td>0.000000</td>\n      <td>12.000000</td>\n      <td>15.000000</td>\n      <td>35.000000</td>\n      <td>0.000000</td>\n      <td>1.000000</td>\n      <td>0.000000</td>\n      <td>0.000000</td>\n      <td>0.000000</td>\n    </tr>\n    <tr>\n      <th>75%</th>\n      <td>11.250000</td>\n      <td>0.000000</td>\n      <td>15.000000</td>\n      <td>26.000000</td>\n      <td>44.000000</td>\n      <td>1.000000</td>\n      <td>1.000000</td>\n      <td>1.000000</td>\n      <td>0.000000</td>\n      <td>0.000000</td>\n    </tr>\n    <tr>\n      <th>max</th>\n      <td>44.500000</td>\n      <td>1.000000</td>\n      <td>18.000000</td>\n      <td>55.000000</td>\n      <td>64.000000</td>\n      <td>1.000000</td>\n      <td>1.000000</td>\n      <td>1.000000</td>\n      <td>1.000000</td>\n      <td>1.000000</td>\n    </tr>\n  </tbody>\n</table>\n</div>"
     },
     "metadata": {},
     "execution_count": 2
    }
   ],
   "source": [
    "# import datasets\n",
    "PATH = 'data/hourly_wages.csv'\n",
    "\n",
    "df = pd.read_csv(PATH)\n",
    "print(df.head())\n",
    "\n",
    "df.describe()"
   ]
  },
  {
   "cell_type": "code",
   "execution_count": 3,
   "metadata": {},
   "outputs": [],
   "source": [
    "predictors = df.drop(columns='wage_per_hour').values\n",
    "target = df['wage_per_hour'].values"
   ]
  },
  {
   "source": [
    "# 534 data, 9 features\n",
    "print(predictors.shape)\n",
    "print(target.shape)"
   ],
   "cell_type": "code",
   "metadata": {},
   "execution_count": 4,
   "outputs": [
    {
     "output_type": "stream",
     "name": "stdout",
     "text": [
      "(534, 9)\n(534,)\n"
     ]
    }
   ]
  },
  {
   "source": [
    "## Import Keras Library"
   ],
   "cell_type": "markdown",
   "metadata": {}
  },
  {
   "cell_type": "code",
   "execution_count": 5,
   "metadata": {},
   "outputs": [],
   "source": [
    "from keras.layers import Dense\n",
    "from keras.models import Sequential"
   ]
  },
  {
   "source": [
    "## 1. Specify the model"
   ],
   "cell_type": "markdown",
   "metadata": {}
  },
  {
   "cell_type": "code",
   "execution_count": 6,
   "metadata": {},
   "outputs": [],
   "source": [
    "# save number of columns\n",
    "n_cols = predictors.shape[1]\n",
    "\n",
    "# initialize model\n",
    "model = Sequential()\n",
    "\n",
    "# add first layer\n",
    "model.add(Dense(50, activation='relu', input_shape = (n_cols,)))\n",
    "\n",
    "# add second layer\n",
    "model.add(Dense(32, activation='relu'))\n",
    "\n",
    "# add output layer\n",
    "model.add(Dense(1))"
   ]
  },
  {
   "source": [
    "## 2. Compiling the model"
   ],
   "cell_type": "markdown",
   "metadata": {}
  },
  {
   "cell_type": "code",
   "execution_count": 7,
   "metadata": {},
   "outputs": [],
   "source": [
    "model.compile(optimizer='adam', loss='mean_squared_error')"
   ]
  },
  {
   "source": [
    "## 3. Fitting the data"
   ],
   "cell_type": "markdown",
   "metadata": {}
  },
  {
   "cell_type": "code",
   "execution_count": 8,
   "metadata": {},
   "outputs": [
    {
     "output_type": "stream",
     "name": "stdout",
     "text": [
      "17/17 [==============================] - 0s 1ms/step - loss: 178.8955\n"
     ]
    },
    {
     "output_type": "execute_result",
     "data": {
      "text/plain": [
       "<tensorflow.python.keras.callbacks.History at 0x1bda6ccaa60>"
      ]
     },
     "metadata": {},
     "execution_count": 8
    }
   ],
   "source": [
    "model.fit(predictors, target)"
   ]
  },
  {
   "source": [
    "# Classification Deep Learning Model"
   ],
   "cell_type": "markdown",
   "metadata": {}
  },
  {
   "source": [
    "## Data Preparations"
   ],
   "cell_type": "markdown",
   "metadata": {}
  },
  {
   "cell_type": "code",
   "execution_count": 9,
   "metadata": {},
   "outputs": [
    {
     "output_type": "execute_result",
     "data": {
      "text/plain": [
       "   survived  pclass   age  sibsp  parch     fare  male  age_was_missing  \\\n",
       "0         0       3  22.0      1      0   7.2500     1            False   \n",
       "1         1       1  38.0      1      0  71.2833     0            False   \n",
       "2         1       3  26.0      0      0   7.9250     0            False   \n",
       "3         1       1  35.0      1      0  53.1000     0            False   \n",
       "4         0       3  35.0      0      0   8.0500     1            False   \n",
       "\n",
       "   embarked_from_cherbourg  embarked_from_queenstown  \\\n",
       "0                        0                         0   \n",
       "1                        1                         0   \n",
       "2                        0                         0   \n",
       "3                        0                         0   \n",
       "4                        0                         0   \n",
       "\n",
       "   embarked_from_southampton  \n",
       "0                          1  \n",
       "1                          0  \n",
       "2                          1  \n",
       "3                          1  \n",
       "4                          1  "
      ],
      "text/html": "<div>\n<style scoped>\n    .dataframe tbody tr th:only-of-type {\n        vertical-align: middle;\n    }\n\n    .dataframe tbody tr th {\n        vertical-align: top;\n    }\n\n    .dataframe thead th {\n        text-align: right;\n    }\n</style>\n<table border=\"1\" class=\"dataframe\">\n  <thead>\n    <tr style=\"text-align: right;\">\n      <th></th>\n      <th>survived</th>\n      <th>pclass</th>\n      <th>age</th>\n      <th>sibsp</th>\n      <th>parch</th>\n      <th>fare</th>\n      <th>male</th>\n      <th>age_was_missing</th>\n      <th>embarked_from_cherbourg</th>\n      <th>embarked_from_queenstown</th>\n      <th>embarked_from_southampton</th>\n    </tr>\n  </thead>\n  <tbody>\n    <tr>\n      <th>0</th>\n      <td>0</td>\n      <td>3</td>\n      <td>22.0</td>\n      <td>1</td>\n      <td>0</td>\n      <td>7.2500</td>\n      <td>1</td>\n      <td>False</td>\n      <td>0</td>\n      <td>0</td>\n      <td>1</td>\n    </tr>\n    <tr>\n      <th>1</th>\n      <td>1</td>\n      <td>1</td>\n      <td>38.0</td>\n      <td>1</td>\n      <td>0</td>\n      <td>71.2833</td>\n      <td>0</td>\n      <td>False</td>\n      <td>1</td>\n      <td>0</td>\n      <td>0</td>\n    </tr>\n    <tr>\n      <th>2</th>\n      <td>1</td>\n      <td>3</td>\n      <td>26.0</td>\n      <td>0</td>\n      <td>0</td>\n      <td>7.9250</td>\n      <td>0</td>\n      <td>False</td>\n      <td>0</td>\n      <td>0</td>\n      <td>1</td>\n    </tr>\n    <tr>\n      <th>3</th>\n      <td>1</td>\n      <td>1</td>\n      <td>35.0</td>\n      <td>1</td>\n      <td>0</td>\n      <td>53.1000</td>\n      <td>0</td>\n      <td>False</td>\n      <td>0</td>\n      <td>0</td>\n      <td>1</td>\n    </tr>\n    <tr>\n      <th>4</th>\n      <td>0</td>\n      <td>3</td>\n      <td>35.0</td>\n      <td>0</td>\n      <td>0</td>\n      <td>8.0500</td>\n      <td>1</td>\n      <td>False</td>\n      <td>0</td>\n      <td>0</td>\n      <td>1</td>\n    </tr>\n  </tbody>\n</table>\n</div>"
     },
     "metadata": {},
     "execution_count": 9
    }
   ],
   "source": [
    "TITANIC_PATH = 'data/titanic_all_numeric.csv'\n",
    "\n",
    "titanic = pd.read_csv(TITANIC_PATH)\n",
    "titanic.head()"
   ]
  },
  {
   "cell_type": "code",
   "execution_count": 10,
   "metadata": {},
   "outputs": [],
   "source": [
    "# import to_categorical\n",
    "from keras.utils import to_categorical\n",
    "\n",
    "# new predictors and targets\n",
    "X = titanic.drop(columns='survived').astype(np.float32)\n",
    "y = to_categorical(titanic['survived'])"
   ]
  },
  {
   "cell_type": "code",
   "execution_count": 11,
   "metadata": {},
   "outputs": [],
   "source": [
    "# separate data\n",
    "from sklearn.model_selection import train_test_split\n",
    "\n",
    "predictors, pred_data, target, pred_target = train_test_split(X, y, test_size=0.2)"
   ]
  },
  {
   "cell_type": "code",
   "execution_count": 12,
   "metadata": {},
   "outputs": [
    {
     "output_type": "stream",
     "name": "stdout",
     "text": [
      "(712, 10)\n(712, 2)\n(179, 10)\n(179, 2)\n"
     ]
    }
   ],
   "source": [
    "# 891 data, 10 features\n",
    "print(predictors.shape)\n",
    "print(target.shape)\n",
    "\n",
    "print(pred_data.shape)\n",
    "print(pred_target.shape)"
   ]
  },
  {
   "cell_type": "code",
   "execution_count": 13,
   "metadata": {},
   "outputs": [],
   "source": [
    "n_cols = predictors.shape[1]"
   ]
  },
  {
   "source": [
    "## 1. Specify the model"
   ],
   "cell_type": "markdown",
   "metadata": {}
  },
  {
   "cell_type": "code",
   "execution_count": 14,
   "metadata": {},
   "outputs": [],
   "source": [
    "model_clf = Sequential()\n",
    "\n",
    "# add first layer\n",
    "model_clf.add(Dense(32, activation='relu', input_shape=(n_cols,)))\n",
    "\n",
    "# add output layer\n",
    "model_clf.add(Dense(2, activation='softmax'))"
   ]
  },
  {
   "source": [
    "## 2. Compiling the model"
   ],
   "cell_type": "markdown",
   "metadata": {}
  },
  {
   "cell_type": "code",
   "execution_count": 15,
   "metadata": {},
   "outputs": [],
   "source": [
    "model_clf.compile(optimizer='sgd', loss='categorical_crossentropy', metrics=['accuracy'])"
   ]
  },
  {
   "source": [
    "## 3. Fitting the data"
   ],
   "cell_type": "markdown",
   "metadata": {}
  },
  {
   "cell_type": "code",
   "execution_count": 16,
   "metadata": {},
   "outputs": [
    {
     "output_type": "stream",
     "name": "stdout",
     "text": [
      "23/23 [==============================] - 0s 1ms/step - loss: 2.1807 - accuracy: 0.5744\n"
     ]
    },
    {
     "output_type": "execute_result",
     "data": {
      "text/plain": [
       "<tensorflow.python.keras.callbacks.History at 0x1bda74f9100>"
      ]
     },
     "metadata": {},
     "execution_count": 16
    }
   ],
   "source": [
    "model_clf.fit(predictors, target)"
   ]
  },
  {
   "source": [
    "## 4. Predict"
   ],
   "cell_type": "markdown",
   "metadata": {}
  },
  {
   "cell_type": "code",
   "execution_count": 17,
   "metadata": {},
   "outputs": [
    {
     "output_type": "execute_result",
     "data": {
      "text/plain": [
       "array([0.9999999 , 0.41475856, 0.4512999 , 0.9906342 , 0.93672496,\n",
       "       0.5076064 , 0.94310373, 1.        , 0.94119704, 0.9999975 ,\n",
       "       0.4502982 , 0.95437706, 0.46416244, 0.2914258 , 0.7418729 ,\n",
       "       0.4721121 , 0.37855047, 0.7237341 , 0.42346826, 0.5372519 ,\n",
       "       0.9997309 , 0.45779347, 0.625253  , 0.9948113 , 0.66975945,\n",
       "       0.32489458, 0.98447233, 0.9948113 , 0.73597884, 0.4501542 ,\n",
       "       0.4273965 , 0.47785556, 0.33757168, 0.5916065 , 0.94062334,\n",
       "       0.8480008 , 0.97191566, 0.96393746, 0.33741906, 0.69012713,\n",
       "       0.47261843, 0.9948113 , 0.99961   , 0.9971806 , 0.9996848 ,\n",
       "       0.9869134 , 0.9464405 , 0.4211152 , 0.75352186, 0.9623286 ,\n",
       "       0.99759287, 0.96475595, 0.34362134, 0.3782885 , 0.9645349 ,\n",
       "       0.9999881 , 0.47194183, 0.9999716 , 0.98076135, 0.415077  ,\n",
       "       0.91224986, 0.49370876, 0.85551643, 0.3224119 , 0.36324415,\n",
       "       0.23576929, 0.9990402 , 0.50890726, 0.43123388, 0.9995291 ,\n",
       "       0.36681113, 0.9201005 , 0.99977213, 0.9461733 , 0.99472225,\n",
       "       0.9202818 , 0.9537483 , 0.9377186 , 0.9637863 , 0.9951391 ,\n",
       "       0.9947206 , 0.96406597, 0.87323016, 0.9992229 , 0.96659756,\n",
       "       0.38486004, 0.7006938 , 0.36985907, 0.9955782 , 0.9994118 ,\n",
       "       0.4501542 , 0.94912446, 0.342975  , 0.5435129 , 0.5223724 ,\n",
       "       0.9341067 , 0.9995086 , 0.71639997, 0.5500222 , 0.8580683 ,\n",
       "       0.38305694, 0.99131775, 0.45773992, 0.38776866, 0.51881677,\n",
       "       0.99999726, 0.9948113 , 0.4621458 , 0.5831998 , 0.9449216 ,\n",
       "       0.44395867, 0.33578682, 0.9995191 , 0.70936126, 0.47795138,\n",
       "       0.94985884, 1.        , 0.4103336 , 0.9202573 , 0.49504772,\n",
       "       0.28381503, 0.45679405, 0.91590786, 0.3371775 , 0.84939915,\n",
       "       0.722768  , 0.93677   , 0.7426581 , 0.9946038 , 0.87849444,\n",
       "       0.9752969 , 0.96706736, 0.33757168, 0.6018648 , 0.34507564,\n",
       "       0.65563136, 0.94569886, 0.938388  , 0.32610795, 0.39454684,\n",
       "       0.33341813, 0.7700793 , 0.99848664, 0.4076705 , 0.38550282,\n",
       "       0.43123388, 0.99997604, 0.62899745, 0.4501542 , 0.47261843,\n",
       "       0.74490786, 0.9994816 , 0.9961437 , 0.43866935, 0.28367633,\n",
       "       0.99999976, 0.88161135, 0.6556832 , 0.9094929 , 0.3488698 ,\n",
       "       0.9531674 , 0.99468875, 0.99134517, 0.56525666, 0.95461327,\n",
       "       0.39672822, 0.6141539 , 0.37243363, 0.9999987 , 0.5168079 ,\n",
       "       0.92348224, 0.4897853 , 0.50755185, 0.49393135, 0.99939394,\n",
       "       0.99958104, 0.7964819 , 0.9944628 , 0.31698087], dtype=float32)"
      ]
     },
     "metadata": {},
     "execution_count": 17
    }
   ],
   "source": [
    "predictions = model_clf.predict(pred_data)\n",
    "\n",
    "# calculate predicted probability of survival\n",
    "predictions[:,1]"
   ]
  },
  {
   "source": [
    "## Saving Model"
   ],
   "cell_type": "markdown",
   "metadata": {}
  },
  {
   "cell_type": "code",
   "execution_count": 18,
   "metadata": {},
   "outputs": [],
   "source": [
    "from keras.models import load_model\n",
    "model_clf.save('model/model_classification.h5')"
   ]
  },
  {
   "cell_type": "code",
   "execution_count": null,
   "metadata": {},
   "outputs": [],
   "source": []
  }
 ]
}